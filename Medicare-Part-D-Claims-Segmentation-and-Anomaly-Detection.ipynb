{
 "cells": [
  {
   "cell_type": "code",
   "execution_count": null,
   "id": "986687be",
   "metadata": {},
   "outputs": [],
   "source": [
    "import pandas as pd\n",
    "import numpy as np\n",
    "from numpy import percentile\n",
    "\n",
    "import matplotlib.pyplot as plt\n",
    "import seaborn as sns\n",
    "import plotly.graph_objects as go\n",
    "# import plotly.graph_objs as go\n",
    "from plotly.subplots import make_subplots\n",
    "# pip install --upgrade pip\n",
    "# pip install --upgrade Pillow\n",
    "# pip install wordcloud\n",
    "from wordcloud import WordCloud\n",
    "import plotly.express as px\n",
    "import json\n",
    "\n",
    "# %pip install missingno\n",
    "import missingno as msno\n",
    "\n",
    "from sklearn.preprocessing import StandardScaler\n",
    "from sklearn.decomposition import PCA\n",
    "from yellowbrick.cluster import KElbowVisualizer\n",
    "from sklearn.cluster import KMeans\n",
    "\n",
    "# pip install pyod\n",
    "from sklearn.preprocessing import MinMaxScaler\n",
    "from pyod.models.cblof import CBLOF\n",
    "from pyod.models.hbos import HBOS\n",
    "from pyod.models.iforest import IForest\n",
    "from pyod.models.knn import KNN\n",
    "\n",
    "import warnings\n",
    "warnings.filterwarnings(\"ignore\")"
   ]
  },
  {
   "cell_type": "markdown",
   "id": "3e93a5f3",
   "metadata": {},
   "source": [
    "## Load the dataset:"
   ]
  },
  {
   "cell_type": "code",
   "execution_count": null,
   "id": "8b44d91e",
   "metadata": {},
   "outputs": [],
   "source": [
    "df = pd.read_csv(\"Data/Medicare_Part_D_Prescribers_by_Provider_2021.csv\")"
   ]
  },
  {
   "cell_type": "markdown",
   "id": "42292646",
   "metadata": {},
   "source": [
    "## Look at  the dataset"
   ]
  },
  {
   "cell_type": "code",
   "execution_count": null,
   "id": "5ea065c2",
   "metadata": {},
   "outputs": [],
   "source": [
    "print(df.columns.tolist())"
   ]
  },
  {
   "cell_type": "code",
   "execution_count": null,
   "id": "83691831",
   "metadata": {},
   "outputs": [],
   "source": [
    "df_prs = df[['PRSCRBR_NPI','Prscrbr_State_Abrvtn', 'Prscrbr_Type',\n",
    "             'Tot_Clms','Tot_Drug_Cst', 'Tot_Day_Suply', 'Tot_Benes', 'GE65_Tot_Clms', \n",
    "             'Brnd_Tot_Drug_Cst',  'Gnrc_Tot_Drug_Cst', 'Othr_Tot_Drug_Cst',\n",
    "             'MAPD_Tot_Drug_Cst','PDP_Tot_Drug_Cst','LIS_Drug_Cst','NonLIS_Drug_Cst',\n",
    "             'Opioid_Tot_Clms','Opioid_Tot_Drug_Cst','Opioid_Tot_Suply', 'Opioid_Tot_Benes', 'Opioid_Prscrbr_Rate', \n",
    "             'Opioid_LA_Tot_Clms', 'Opioid_LA_Tot_Drug_Cst', 'Opioid_LA_Tot_Suply', 'Opioid_LA_Tot_Benes', 'Opioid_LA_Prscrbr_Rate', \n",
    "             'Antbtc_Tot_Clms','Antbtc_Tot_Drug_Cst', 'Antbtc_Tot_Benes', \n",
    "             'Antpsyct_GE65_Tot_Clms', 'Antpsyct_GE65_Tot_Drug_Cst', 'Antpsyct_GE65_Tot_Benes',\n",
    "             'Bene_Avg_Risk_Scre']]"
   ]
  },
  {
   "cell_type": "code",
   "execution_count": null,
   "id": "e2d06d09",
   "metadata": {},
   "outputs": [],
   "source": [
    "df_prs.info()"
   ]
  },
  {
   "cell_type": "code",
   "execution_count": null,
   "id": "2e70eb26",
   "metadata": {},
   "outputs": [],
   "source": [
    "df_prs.head(2)"
   ]
  },
  {
   "cell_type": "code",
   "execution_count": null,
   "id": "e95a0a5c",
   "metadata": {},
   "outputs": [],
   "source": [
    "df_prs['Prscrbr_State_Abrvtn'].nunique()"
   ]
  },
  {
   "cell_type": "code",
   "execution_count": null,
   "id": "23f82bca",
   "metadata": {},
   "outputs": [],
   "source": [
    "df_prs['Prscrbr_State_Abrvtn'].unique()"
   ]
  },
  {
   "cell_type": "code",
   "execution_count": null,
   "id": "1ba88142",
   "metadata": {},
   "outputs": [],
   "source": [
    "df_prs['Prscrbr_Type'].nunique()"
   ]
  },
  {
   "cell_type": "markdown",
   "id": "55e65844",
   "metadata": {},
   "source": [
    "## Prescription Claims Overview"
   ]
  },
  {
   "cell_type": "code",
   "execution_count": null,
   "id": "ab7b442b",
   "metadata": {},
   "outputs": [],
   "source": [
    "print(\"Number of Prescribers:\", f\"{df_prs['PRSCRBR_NPI'].nunique():,}\")\n",
    "print(\"Number of Day’s Supply for All Claims:\", f\"{df_prs['Tot_Day_Suply'].sum():,}\")\n",
    "print(\"Number of Medicare Part D Claims, Including Refills:\", f\"{df_prs['Tot_Clms'].sum():,}\" )\n",
    "print(\"Aggregate Cost Paid for All Claims\", f\"{df_prs['Tot_Drug_Cst'].sum():,}\")\n",
    "print(\"Number of Medicare Beneficiaries:\", f\"{df_prs['Tot_Benes'].sum().astype('int'):,}\")"
   ]
  },
  {
   "cell_type": "code",
   "execution_count": null,
   "id": "7c7b1909",
   "metadata": {},
   "outputs": [],
   "source": [
    "fig=go.Figure()\n",
    "fig.add_trace(go.Scatter(\n",
    "    x=[0, 1, 2, 3, 4],\n",
    "    y=[1.6, 1.6, 1.6, 1.6,1.6],\n",
    "    mode=\"text\", \n",
    "    text=[\"<span style='font-size:25px'><b>1.29M</b></span>\",\n",
    "                    \"<span style='font-size:25px'><b>75.9B</b></span>\",\n",
    "          \"<span style='font-size:25px'><b>1.49B</b></span>\",\n",
    "          \"<span style='font-size:25px'><b>216B</b></span>\",\n",
    "          \"<span style='font-size:25px'><b>186M</b></span>\"],\n",
    "    textposition=\"bottom center\"\n",
    "))\n",
    "fig.add_trace(go.Scatter(\n",
    "    x=[0, 1, 2, 3, 4],\n",
    "    y=[1.1, 1.1, 1.1, 1.1, 1.1],\n",
    "    mode=\"text\", \n",
    "    text=[\"Prescribers\",\"Day’s Supply\", \"Claims\", \"Drug Cost\",  \"Beneficiaries\"],\n",
    "    textposition=\"bottom center\"\n",
    "))\n",
    "fig.add_hline(y=2.2, line_width=5, line_color='gray')\n",
    "fig.add_hline(y=0.3, line_width=3, line_color='gray')\n",
    "fig.update_yaxes(visible=False)\n",
    "fig.update_xaxes(visible=False)\n",
    "fig.update_layout(height=300, hovermode=False, showlegend=False,\n",
    "                  title=\"Medicare Part D Prescription Claims in 2021\", title_x=0.5, title_y=0.9,\n",
    "                  xaxis_range=[-0.5,4.6], yaxis_range=[-0.2,2.2],                 \n",
    "                  margin=dict(t=90, b=0, l=70, r=70),\n",
    "                  plot_bgcolor='#333', paper_bgcolor='#333',\n",
    "                  title_font=dict(size=35, color='#8a8d93'),\n",
    "                  font=dict(size=16, color='#8a8d93')\n",
    "                 )"
   ]
  },
  {
   "cell_type": "code",
   "execution_count": null,
   "id": "ed68ca75",
   "metadata": {},
   "outputs": [],
   "source": [
    "msno.bar(df_prs)"
   ]
  },
  {
   "cell_type": "code",
   "execution_count": null,
   "id": "183d9e7c",
   "metadata": {},
   "outputs": [],
   "source": [
    "df_prs['Prscrbr_Type'] = df_prs['Prscrbr_Type'].fillna('NA')\n",
    "df_prs = df_prs.fillna(0)\n",
    "df_prs[df_prs.columns[3:31]] = df_prs[df_prs.columns[3:31]].astype('int64')\n",
    "df_prs.Bene_Avg_Risk_Scre = df_prs.Bene_Avg_Risk_Scre.round(2)\n",
    "df_prs.head(3)"
   ]
  },
  {
   "cell_type": "code",
   "execution_count": null,
   "id": "8ebb13e7",
   "metadata": {},
   "outputs": [],
   "source": [
    "msno.bar(df_prs)"
   ]
  },
  {
   "cell_type": "markdown",
   "id": "a3b276da",
   "metadata": {},
   "source": [
    "## How Many Providers are Located in Your State in 2021?"
   ]
  },
  {
   "cell_type": "code",
   "execution_count": null,
   "id": "bc3afc19",
   "metadata": {},
   "outputs": [],
   "source": [
    "df_state = df_prs.groupby('Prscrbr_State_Abrvtn').agg(\n",
    "    Prsc_cnt=pd.NamedAgg(column=\"PRSCRBR_NPI\", aggfunc=\"nunique\"),\n",
    "    Tot_Day_Suply=pd.NamedAgg(column=\"Tot_Day_Suply\", aggfunc=\"sum\"),\n",
    "    Tot_Clms = pd.NamedAgg(column=\"Tot_Clms\", aggfunc=\"sum\"),\n",
    "    Tot_Drug_Cst=pd.NamedAgg(column=\"Tot_Drug_Cst\", aggfunc=\"sum\"),\n",
    "    Tot_Benes=pd.NamedAgg(column=\"Tot_Benes\", aggfunc=\"sum\")\n",
    ")"
   ]
  },
  {
   "cell_type": "code",
   "execution_count": null,
   "id": "854fcb61",
   "metadata": {},
   "outputs": [],
   "source": [
    "for col in df_state.columns:\n",
    "    df_state[col] = df_state[col].astype('str')\n",
    "df_state = df_state.reset_index()\n",
    "df_state.head(2)"
   ]
  },
  {
   "cell_type": "code",
   "execution_count": null,
   "id": "cc5121e7",
   "metadata": {},
   "outputs": [],
   "source": [
    "df_state['text'] = df_state['Prscrbr_State_Abrvtn'] + '<br>' + \\\n",
    "    'Prescribers' + ': ' + df_state['Prsc_cnt']  + '<br>' + \\\n",
    "    \"Day’s Supply\"+ ': ' + df_state['Tot_Day_Suply']  + '<br>' + \\\n",
    "    \"Drug Cost\"+ ': ' + df_state['Tot_Drug_Cst']   + '<br>' + \\\n",
    "    \"Beneficiaries\"+ ': ' + df_state['Tot_Benes']\n",
    "\n",
    "\n",
    "fig = go.Figure(data=go.Choropleth(\n",
    "    locations=df_state['Prscrbr_State_Abrvtn'], # Spatial coordinates\n",
    "    z=df_state['Tot_Clms'].astype('int'),  # Data to be color-coded\n",
    "    locationmode='USA-states', # set of locations match entries in `locations`\n",
    "    colorscale='Reds',\n",
    "    autocolorscale=False,\n",
    "    text=df_state['text'], # hover text\n",
    "    marker_line_color='white', # line markers between states\n",
    "    colorbar_title=\"Total Claims\"\n",
    "))\n",
    "\n",
    "fig.update_layout(\n",
    "    title_text='How Many Providers are Located in Your State in 2021? <br>(Hover for breakdown)',\n",
    "    geo = dict(\n",
    "        scope='usa',\n",
    "        projection=go.layout.geo.Projection(type = 'albers usa'),\n",
    "        showlakes=True, # lakes\n",
    "        lakecolor='rgb(255, 255, 255)'),\n",
    ")\n",
    "\n",
    "fig.show()"
   ]
  },
  {
   "cell_type": "markdown",
   "id": "8d680288",
   "metadata": {},
   "source": [
    "## How are the Claims Paid?"
   ]
  },
  {
   "cell_type": "code",
   "execution_count": null,
   "id": "d0ab5dc3",
   "metadata": {},
   "outputs": [],
   "source": [
    "df_drugs = df_prs[[ 'Tot_Clms','Tot_Drug_Cst','Brnd_Tot_Drug_Cst','Gnrc_Tot_Drug_Cst','Othr_Tot_Drug_Cst',\n",
    "                   'MAPD_Tot_Drug_Cst','PDP_Tot_Drug_Cst','LIS_Drug_Cst','NonLIS_Drug_Cst',\n",
    "                   'Opioid_Tot_Clms','Opioid_Tot_Drug_Cst',\n",
    "                   'Opioid_LA_Tot_Clms','Opioid_LA_Tot_Drug_Cst',\n",
    "                   'Antbtc_Tot_Clms','Antbtc_Tot_Drug_Cst',\n",
    "                   'Antpsyct_GE65_Tot_Clms','Antpsyct_GE65_Tot_Drug_Cst']].sum().round(0)\n",
    "df_drugs"
   ]
  },
  {
   "cell_type": "code",
   "execution_count": null,
   "id": "02e36982",
   "metadata": {},
   "outputs": [],
   "source": [
    "drug_brand = [df_drugs['Brnd_Tot_Drug_Cst'],df_drugs['Gnrc_Tot_Drug_Cst'], df_drugs['Othr_Tot_Drug_Cst']]\n",
    "drug_brand"
   ]
  },
  {
   "cell_type": "code",
   "execution_count": null,
   "id": "b2b53386",
   "metadata": {},
   "outputs": [],
   "source": [
    "drug_flag = [df_drugs['Opioid_Tot_Drug_Cst'], df_drugs['Opioid_LA_Tot_Drug_Cst'],\n",
    "     df_drugs['Antbtc_Tot_Drug_Cst'], df_drugs['Antpsyct_GE65_Tot_Drug_Cst']]\n",
    "drug_flag"
   ]
  },
  {
   "cell_type": "code",
   "execution_count": null,
   "id": "d3026f33",
   "metadata": {},
   "outputs": [],
   "source": [
    "percent = ((drug_flag[0]+drug_flag[1]+drug_flag[2])/df_drugs['Tot_Drug_Cst']).round(4) \n",
    "print('Flagged drug percent: {:.2%}'.format(percent))"
   ]
  },
  {
   "cell_type": "code",
   "execution_count": null,
   "id": "2c681706",
   "metadata": {},
   "outputs": [],
   "source": [
    "drug_plan = [df_drugs['MAPD_Tot_Drug_Cst'], df_drugs['PDP_Tot_Drug_Cst']]\n",
    "drug_plan"
   ]
  },
  {
   "cell_type": "code",
   "execution_count": null,
   "id": "a91a9c00",
   "metadata": {},
   "outputs": [],
   "source": [
    "drug_Subsidy = [df_drugs['LIS_Drug_Cst'], df_drugs['NonLIS_Drug_Cst']]\n",
    "drug_Subsidy"
   ]
  },
  {
   "cell_type": "code",
   "execution_count": null,
   "id": "0f416d1e",
   "metadata": {},
   "outputs": [],
   "source": [
    "fig = make_subplots(rows=1, cols=4, vertical_spacing=1, specs=[[{\"type\": \"pie\"},{\"type\": \"pie\"},{\"type\": \"pie\"},{\"type\": \"pie\"}]],\n",
    "                    column_widths=[0.25, 0.25, 0.25, 0.25], \n",
    "                    subplot_titles=(\"Flagged Drug <br>\", \"Drug Brand <br>\", \"Insurance Plans <br>\", \"Covered By Subsidy\"))\n",
    "\n",
    "fig.add_trace(go.Pie(values=drug_flag, labels=['Opioid','Long Acting Opioid','Antibiotic', 'Antpsyct for Elderly'], \n",
    "                     marker_colors=['#334668','#4c78a8','#72b7b2', '#334668'],\n",
    "                     hole=0.5, rotation=90, showlegend=False, \n",
    "                     hoverinfo='label+percent+value', textinfo='label'), \n",
    "                     row=1, col=1)\n",
    "fig.add_trace(go.Pie(values=drug_brand, labels=['Brand Drugs','Generic Drugs','Other Drugs'],\n",
    "                     marker_colors=['#334668','#4c78a8','#72b7b2'],\n",
    "                     hole=0.5, rotation=90, showlegend=False, \n",
    "                     hoverinfo='label+percent+value', textinfo='label'), \n",
    "                     row=1, col=2)\n",
    "fig.add_trace(go.Pie(values=drug_plan, labels=['MAPD Plans','PDP Plans'],\n",
    "                     marker_colors=['#4c78a8','#72b7b2'],\n",
    "                     hole=0.5, rotation=90, showlegend=False, \n",
    "                     hoverinfo='label+percent+value', textinfo='label'), \n",
    "                     row=1, col=3)\n",
    "fig.add_trace(go.Pie(values=drug_Subsidy, labels=['Low-Income Subsidy','Non Low-Income Subsidy'], \n",
    "                     marker_colors=['#4c78a8','#72b7b2'],\n",
    "                     hole=0.5, rotation=90, showlegend=False, \n",
    "                     hoverinfo='label+percent+value', textinfo='label'), \n",
    "                     row=1, col=4)\n",
    "# styling\n",
    "fig.update_traces(hovertemplate=None, marker=dict(line=dict(width=0)))\n",
    "fig.update_layout(height=360, barmode='stack',\n",
    "                  margin=dict(t=70, b=40, l=0, r=70), \n",
    "                  title=\"<span style='font-size:40px; font-family:Times New Roman'>How are the Claims Paid? </span>\",\n",
    "                  plot_bgcolor='#333', paper_bgcolor='#333',\n",
    "                  font=dict(size=13, color='#8a8d93'))\n",
    "fig.show()"
   ]
  },
  {
   "cell_type": "markdown",
   "id": "1dc5ca4d",
   "metadata": {},
   "source": [
    "## What are the providers, claims, and costs in each specialty?"
   ]
  },
  {
   "cell_type": "code",
   "execution_count": null,
   "id": "3e4f742a",
   "metadata": {},
   "outputs": [],
   "source": [
    "df_prs2 = df_prs[['PRSCRBR_NPI','Tot_Clms','Tot_Drug_Cst','Prscrbr_Type']].drop(df_prs[df_prs['Prscrbr_Type']=='NA'].index)"
   ]
  },
  {
   "cell_type": "code",
   "execution_count": null,
   "id": "3c6063ac",
   "metadata": {},
   "outputs": [],
   "source": [
    "df_specialty = df_prs2.groupby('Prscrbr_Type').agg({'PRSCRBR_NPI':'count', 'Tot_Clms':'sum', 'Tot_Drug_Cst':'sum'}).reset_index()\n",
    "df_specialty = df_specialty.sort_values(by=['PRSCRBR_NPI'], ascending=False)\n",
    "df_specialty['Prscrbr_Type'] = df_specialty['Prscrbr_Type'].apply(lambda x: x.replace(\" \",\"_\"))\n",
    "df_specialty.head(5)"
   ]
  },
  {
   "cell_type": "code",
   "execution_count": null,
   "id": "a0978d5b",
   "metadata": {},
   "outputs": [],
   "source": [
    "# convert to dict (method 1)\n",
    "specialty_txt = dict(zip(df_specialty['Prscrbr_Type'].tolist(), df_specialty['PRSCRBR_NPI'].tolist()))\n",
    "# convert to dict (method 2)\n",
    "# data = df_specialty.set_index('Prscrbr_Type').to_dict()['Tot_Drug_Cst']"
   ]
  },
  {
   "cell_type": "code",
   "execution_count": null,
   "id": "642e35ff",
   "metadata": {},
   "outputs": [],
   "source": [
    "wordcloud = WordCloud(background_color='white', width=800, height=400, max_words=50).generate_from_frequencies(specialty_txt)\n",
    "# wordcloud = WordCloud(background_color='#333', width=800, height=400, max_words=50).generate_from_frequencies(specialty_txt)\n",
    "plt.figure(figsize=(16,8))\n",
    "plt.imshow(wordcloud)\n",
    "plt.title('Which Specialty Type has the most providers? \\n', fontsize=40, fontfamily='Times New Roman')\n",
    "plt.axis(\"off\")\n",
    "plt.show() "
   ]
  },
  {
   "cell_type": "code",
   "execution_count": null,
   "id": "d28ca74e",
   "metadata": {},
   "outputs": [],
   "source": [
    "df_specialty[['Tot_Clms','Tot_Drug_Cst']]= (df_specialty[['Tot_Clms','Tot_Drug_Cst']]/100000).astype('int64')"
   ]
  },
  {
   "cell_type": "code",
   "execution_count": null,
   "id": "94ca8ef0",
   "metadata": {},
   "outputs": [],
   "source": [
    "df_specialty.head(2)"
   ]
  },
  {
   "cell_type": "code",
   "execution_count": null,
   "id": "a59a19ff",
   "metadata": {},
   "outputs": [],
   "source": [
    "df_claim_10 = df_specialty.sort_values(by=['Tot_Clms'], ascending=False).head(10)\n",
    "df_claim_10"
   ]
  },
  {
   "cell_type": "code",
   "execution_count": null,
   "id": "30f72cad",
   "metadata": {},
   "outputs": [],
   "source": [
    "df_cost_10 = df_specialty.sort_values(by=['Tot_Drug_Cst'], ascending=False).head(10)\n",
    "df_cost_10"
   ]
  },
  {
   "cell_type": "code",
   "execution_count": null,
   "id": "fdbfc186",
   "metadata": {},
   "outputs": [],
   "source": [
    "# chart\n",
    "fig = make_subplots(rows=2, cols=1, horizontal_spacing=0.01, vertical_spacing=0.04)                    \n",
    "fig.add_trace(go.Bar(x=df_claim_10['Prscrbr_Type'], y=df_claim_10['Tot_Clms'], marker_color='#56627d', name='total claim', \n",
    "                     text = df_claim_10['Tot_Clms'].map('{:,}'.format), textposition = \"inside\",showlegend=True, hovertemplate='{x}'+ '{y}'\n",
    "                     ), row=1, col=1)\n",
    "fig.add_trace(go.Bar(x=df_cost_10['Prscrbr_Type'], y=df_cost_10['Tot_Drug_Cst'], marker_color='#72b7b2', name='total cost', \n",
    "                     text = df_cost_10['Tot_Drug_Cst'].map('{:,}'.format), textposition = \"inside\",showlegend=True, hovertemplate='{x}'+ '{y}'\n",
    "                     ), row=2, col=1)\n",
    "\n",
    "\n",
    "# styling\n",
    "fig.update_xaxes(visible=True, categoryorder='total ascending', tickangle =15 ,row=1, col=1)\n",
    "fig.update_xaxes(visible=True, categoryorder='total ascending', tickangle =15, row=2, col=1)\n",
    "fig.update_yaxes(visible=False)\n",
    "fig.update_traces(hovertemplate=None, marker=dict(line=dict(width=0)))\n",
    "fig.update_layout(height=700, hovermode='x unified',\n",
    "                  title=\"<span style='font-size:45px; font-family:Times New Roman'>Top 10 Claims & Costs (M) on Specialty </span>\",\n",
    "                  margin=dict(t=130, b=10, l=15, r=15),               \n",
    "                  plot_bgcolor='#333', paper_bgcolor='#333',\n",
    "                  title_font=dict(size=9, color='#8a8d93', family=\"Times New Roman\"),\n",
    "                  font=dict(size=10,color='#8a8d93'),\n",
    "                  legend=dict(title=\"\", orientation=\"v\", yanchor=\"bottom\", xanchor=\"center\", x=0.1, y=0.9,\n",
    "                              bordercolor=\"#fff\", borderwidth=0.5, font_size=13)\n",
    "                  )\n",
    "\n",
    "fig.show()"
   ]
  },
  {
   "cell_type": "code",
   "execution_count": null,
   "id": "a485c195",
   "metadata": {},
   "outputs": [],
   "source": [
    "# chart\n",
    "fig = make_subplots(rows=2, cols=1, shared_xaxes=True, horizontal_spacing=0.01, vertical_spacing=0.04)                    \n",
    "fig.add_trace(go.Bar(x=df_claim_10['Prscrbr_Type'], y=df_claim_10['Tot_Clms'], marker_color='#56627d', name='total claim', \n",
    "                     text = df_claim_10['Tot_Clms'].map('{:,}'.format), textposition = \"inside\",showlegend=True,\n",
    "                     hovertemplate = '%{y:,}'       \n",
    "                     ), row=1, col=1)\n",
    "\n",
    "fig.add_trace(go.Scatter(x=df_claim_10['Prscrbr_Type'], y=-df_claim_10['Tot_Drug_Cst'],\n",
    "                         text=df_claim_10['Tot_Drug_Cst'], textposition='middle center',\n",
    "                  textfont=dict(color='#E58606'), hovertemplate = '%{text:,}' , \n",
    "                  mode='lines+markers+text',\n",
    "                  marker=dict(color=['#56627d','#c6ccd8','#334668','#56627d','#c6ccd8',\n",
    "                       '#334668','#56627d','#56627d','#56627d','#334668'],\n",
    "                              size=list(2**(np.log(df_claim_10['Tot_Clms']))/3)),\n",
    "                  line=dict(color='#52BCA3', width=1, dash='dash'),\n",
    "                  name='total cost')\n",
    "                       , row=2, col=1)\n",
    "\n",
    "# styling\n",
    "fig.update_xaxes(visible=True, categoryorder='trace',  row=1, col=1)\n",
    "fig.update_xaxes(showgrid=False, mirror=\"allticks\", side='top',  row=2, col=1)\n",
    "fig.update_yaxes(visible=False)\n",
    "#fig.update_traces(hovertemplate=None, marker=dict(line=dict(width=0)))\n",
    "fig.update_layout(height=700, \n",
    "                  title=\"<span style='font-size:40px; font-family:Times New Roman'>Top 10 Claims (Million) Specialty and Costs (Million)</span>\",\n",
    "                  margin=dict(t=130, b=10, l=15, r=15),               \n",
    "                  plot_bgcolor='#333', paper_bgcolor='#333',\n",
    "                  title_font=dict(size=9, color='#8a8d93', family=\"Times New Roman\"),\n",
    "                  font=dict(size=10,color='#8a8d93'),\n",
    "                  legend=dict(title=\"\", orientation=\"v\", yanchor=\"bottom\", xanchor=\"center\", x=0.9, y=0.95,\n",
    "                              bordercolor=\"#fff\", borderwidth=0.5, font_size=13),\n",
    "                  hovermode='x unified'\n",
    "                  )\n",
    "\n",
    "fig.show()"
   ]
  },
  {
   "cell_type": "code",
   "execution_count": null,
   "id": "c6eb6dad",
   "metadata": {},
   "outputs": [],
   "source": [
    "#df_cc10 = df_specialty.loc[df_specialty['Prscrbr_Type'].isin(df_cost_10['Prscrbr_Type'])|\n",
    "#                df_specialty['Prscrbr_Type'].isin(df_claim_10['Prscrbr_Type'])].sort_values(by=['Tot_Clms'], ascending=False)"
   ]
  },
  {
   "cell_type": "markdown",
   "id": "d7f41293",
   "metadata": {},
   "source": [
    "## How are the Average Patient Health Condition?"
   ]
  },
  {
   "cell_type": "code",
   "execution_count": null,
   "id": "706f8c7e",
   "metadata": {},
   "outputs": [],
   "source": [
    "# Distribution of beneficiaries' age \n",
    "fig, axes = plt.subplots(1, 2, figsize=(18, 5))\n",
    "\n",
    "sns.distplot(df_prs['Bene_Avg_Risk_Scre'], kde = True, color='green',\n",
    "             kde_kws={\"color\": \"b\", \"alpha\": 0.8}, bins = 20, ax=axes[0])\n",
    "axes[0].set_title(\"Beneficiaries Average Risk Score Distribution \\n\",fontsize = 14)\n",
    "axes[0].set_xlabel(\"\\n Beneficiary Average Risk Score\", fontsize = 14)\n",
    "\n",
    "sns.boxplot(x=df_prs['Bene_Avg_Risk_Scre'], palette=\"pastel\", ax=axes[1])\n",
    "axes[1].set_xlabel(\"\\n Beneficiary Average Risk Score\", fontsize = 14)\n",
    "axes[1].set_title(\"Beneficiary Average Risk Score Boxplot \\n\", fontsize = 14)\n",
    "plt.show()"
   ]
  },
  {
   "cell_type": "code",
   "execution_count": null,
   "id": "bbb1864e",
   "metadata": {},
   "outputs": [],
   "source": [
    "df_con = df_prs['Bene_Avg_Risk_Scre'].value_counts().rename_axis('Bene_Avg_Risk_Scre').reset_index(name='counts')\n",
    "df_con.sort_values(by=['Bene_Avg_Risk_Scre'], ascending=True)"
   ]
  },
  {
   "cell_type": "code",
   "execution_count": null,
   "id": "d14e373c",
   "metadata": {},
   "outputs": [],
   "source": [
    "df_prs[\"Risk_Scre_cat\"] = pd.cut(df_prs['Bene_Avg_Risk_Scre'],\n",
    "                               bins=[0, 0.5, 1, 1.5,  2, 3, 4, 5, np.inf],\n",
    "                               labels=[1, 2, 3, 4, 5, 6,7,8])"
   ]
  },
  {
   "cell_type": "code",
   "execution_count": null,
   "id": "adfe3aa9",
   "metadata": {},
   "outputs": [],
   "source": [
    "fig = px.histogram(df_prs, x=\"Risk_Scre_cat\", histnorm='probability density',\n",
    "                  title=\"How are the Average Patient Health Condition?\",\n",
    "            width=800, height=400, \n",
    "            labels={ # replaces default labels by column name\n",
    "                \"Risk_Scre_cat\": \"Beneficiary Average Risk Score\"\n",
    "            },\n",
    "            template=\"plotly_dark\",  # template=\"simple_white\",\n",
    "                   text_auto=True  \n",
    "            )\n",
    "fig.data[0].marker.line.width = 1\n",
    "fig.data[0].marker.line.color = \"white\"\n",
    "fig.update_layout(xaxis = dict(tickmode = 'array',\n",
    "                               tickvals = [1, 2, 3, 4, 5, 6, 7, 8],\n",
    "                               ticktext=[\"0-0.5\", \"0.5-1\", \"1-1.5\", \"1.5-2\",\"2-3\", \"3-4\", \"4-5\", \">5\"]\n",
    "                              ),\n",
    "                  margin=dict(t=130, b=10, l=15, r=15),               \n",
    "                  plot_bgcolor='#333', paper_bgcolor='#333',\n",
    "                  title_font=dict(size=40, color='#8a8d93', family=\"Times New Roman\"),\n",
    "                  font=dict(size=10,color='#8a8d93'))\n",
    "fig.show()"
   ]
  },
  {
   "cell_type": "markdown",
   "id": "3b221d9b",
   "metadata": {},
   "source": [
    "## How Prescibers Cluster on Flagged Drugs Providing?"
   ]
  },
  {
   "cell_type": "markdown",
   "id": "844c9b97",
   "metadata": {},
   "source": [
    "I notice that opioids, long-acting opioids, antibiotic drugs, and Antpsyct drugs are specifically labeled and aggregated in the Medicare Pard D Presciber summary form. I realize that the crisis of abuse, waste, and fraud of drugs, especially the four labeled drugs mentioned above, is real. The issure should be take care of , whether from the perspective of preventing fraud and abuse of medical insurance funds of from the perspective of patients' health. However, identiying such a healthcare provider looks like finding a needle in a haystack. I will use clustering method to filter the providers and identify suspicious ones. This way, we reduce the size of the search pool, so that finding a needle becomes easy.   \n",
    "\n",
    "In this section, I selected some features that I believe are important for identifying fraudulent behavior by prescribers on flagged drugs. These features are all related to the four flagged drugs. I found that the flagged drugs accounted for 2.82% of the total drug cost in the flagged drugs analysis selection. Including too much irrelevant information would interfere with the achieved cluster goals."
   ]
  },
  {
   "cell_type": "code",
   "execution_count": null,
   "id": "fd0facdb",
   "metadata": {},
   "outputs": [],
   "source": [
    "# Correlation matrix\n",
    "df_prepare = df_prs[['Tot_Clms','Opioid_Tot_Clms','Opioid_Tot_Drug_Cst','Opioid_Tot_Suply', 'Opioid_Tot_Benes', 'Opioid_Prscrbr_Rate', \n",
    "             'Opioid_LA_Tot_Clms', 'Opioid_LA_Tot_Drug_Cst', 'Opioid_LA_Tot_Suply', 'Opioid_LA_Tot_Benes', 'Opioid_LA_Prscrbr_Rate', \n",
    "             'Antbtc_Tot_Clms','Antbtc_Tot_Drug_Cst', 'Antbtc_Tot_Benes', \n",
    "             'GE65_Tot_Clms', 'Antpsyct_GE65_Tot_Clms', 'Antpsyct_GE65_Tot_Drug_Cst', 'Antpsyct_GE65_Tot_Benes']]\n",
    "corr = df_prepare.corr()\n",
    "fig = go.Figure(data=go.Heatmap(z=np.array(corr),x=corr.columns.tolist(),y=corr.columns.tolist(),xgap = 1,ygap = 1))\n",
    "fig.update_layout(margin = dict(t=25,r=0,b=200,l=200),width = 1000, height = 700)\n",
    "fig.show()"
   ]
  },
  {
   "cell_type": "markdown",
   "id": "cae58fb1",
   "metadata": {},
   "source": [
    "From the above correlation matrix, I found that Tot_clms have high positive correlation with Tot_suply and Tot_Benes for flagged drugs.  Some drug cost are high correlated with claims like  Opioid drugs and long acting Opioid drugs, but some not, like  Antibiotic drugs and Antipsychotics for the elderly. I will use mean cost and prescribe rate of flagged drugs as the key metrics.\n",
    "\n",
    "\n",
    "I will remove those correlation features with Tot_clms for flagged drugs. Prscrbr_Rate features of Opioid drugs and long acting Opioid drugs are not high correlated with other features, so I will calculate Prscrbr_Rate for Antibiotic drugs and Antipsychotics"
   ]
  },
  {
   "cell_type": "code",
   "execution_count": null,
   "id": "1fe85d0a",
   "metadata": {},
   "outputs": [],
   "source": [
    "df_prepare['Opioid_mean_cost'] = df_prepare['Opioid_Tot_Drug_Cst']/df_prepare['Opioid_Tot_Clms']\n",
    "df_prepare['Opioid_LA_mean_cost'] = df_prepare['Opioid_LA_Tot_Drug_Cst']/df_prepare['Opioid_LA_Tot_Clms']\n",
    "df_prepare['Antbtc_mean_cost'] = df_prepare['Antbtc_Tot_Drug_Cst']/df_prepare['Antbtc_Tot_Clms']\n",
    "df_prepare['Antpsyct_mean_cost'] = df_prepare['Antpsyct_GE65_Tot_Drug_Cst']/df_prepare['Antpsyct_GE65_Tot_Clms']\n",
    "df_prepare['Antbtc_Prscrbr_Rate'] = df_prepare['Antbtc_Tot_Clms']*100/df_prepare['Tot_Clms']\n",
    "df_prepare['Antpsyct_Prscrbr_Rate'] = df_prepare['Antpsyct_GE65_Tot_Clms']*100/df_prepare['GE65_Tot_Clms']\n"
   ]
  },
  {
   "cell_type": "code",
   "execution_count": null,
   "id": "63c51efd",
   "metadata": {},
   "outputs": [],
   "source": [
    "df_prepare.head(2)"
   ]
  },
  {
   "cell_type": "code",
   "execution_count": null,
   "id": "1415b58b",
   "metadata": {},
   "outputs": [],
   "source": [
    "df_prepare = df_prepare.fillna(0)\n",
    "df_clean = df_prepare[['Opioid_mean_cost','Opioid_LA_mean_cost','Antbtc_mean_cost','Antpsyct_mean_cost', \n",
    "                       'Opioid_Prscrbr_Rate', 'Opioid_LA_Prscrbr_Rate','Antbtc_Prscrbr_Rate',  'Antpsyct_Prscrbr_Rate']]"
   ]
  },
  {
   "cell_type": "code",
   "execution_count": null,
   "id": "5cbf8653",
   "metadata": {},
   "outputs": [],
   "source": [
    "df_clean.head(2)"
   ]
  },
  {
   "cell_type": "code",
   "execution_count": null,
   "id": "afcbe706",
   "metadata": {},
   "outputs": [],
   "source": [
    "corr1 = df_clean.corr()\n",
    "fig = go.Figure(data=go.Heatmap(z=np.array(corr1),x=corr1.columns.tolist(),y=corr1.columns.tolist(),xgap = 1,ygap = 1))\n",
    "fig.update_layout(margin = dict(t=25,r=0,b=200,l=200),width = 1000, height = 700)\n",
    "fig.show()"
   ]
  },
  {
   "cell_type": "code",
   "execution_count": null,
   "id": "ec866710",
   "metadata": {},
   "outputs": [],
   "source": [
    "#Scaling\n",
    "scaler = StandardScaler()\n",
    "df_scaled = scaler.fit_transform(df_clean)\n",
    "df_scaled = pd.DataFrame(df_scaled, columns= df_clean.columns )\n",
    "df_scaled.head(2)"
   ]
  },
  {
   "cell_type": "code",
   "execution_count": null,
   "id": "4e1aec7b",
   "metadata": {
    "scrolled": true
   },
   "outputs": [],
   "source": [
    "pca = PCA()\n",
    "pca.fit(df_scaled)\n",
    "exp_var_cumul = np.cumsum(pca.explained_variance_ratio_)\n",
    "\n",
    "fig = px.line(x=np.arange(1,exp_var_cumul.shape[0]+1), y=exp_var_cumul, markers=True, labels={'x':'# of components', 'y':'Cumulative Explained Variance'})\n",
    "\n",
    "#fig.add_shape(type='line', line=dict(dash='dash'),x0=0, x1=30, y0=0.95, y1=0.95)\n",
    "\n",
    "fig.show()"
   ]
  },
  {
   "cell_type": "markdown",
   "id": "37186668",
   "metadata": {},
   "source": [
    "I find that the cumulative variance growing stablely and doesn't form an obvious elbow This is because the features that I selected are not high correlated. I also find that the number of dimensions is 7 while preserving 95% of its variance. "
   ]
  },
  {
   "cell_type": "markdown",
   "id": "93ce0edc",
   "metadata": {},
   "source": [
    "## Clustering"
   ]
  },
  {
   "cell_type": "code",
   "execution_count": null,
   "id": "b06565bf",
   "metadata": {
    "scrolled": true
   },
   "outputs": [],
   "source": [
    "from yellowbrick.cluster import KElbowVisualizer\n",
    "from sklearn.cluster import KMeans\n",
    "# Quick examination numbers of clusters by using elbow method.\n",
    "print('Elbow Method to determine the number of clusters:')\n",
    "plt.figure(figsize=(10,5))\n",
    "Elbow_M = KElbowVisualizer(KMeans(), k=10) # metric default: \"distortion\", mean sum of squared distances to centers\n",
    "# silhouette: mean ratio of intra-cluster and nearest-cluster distance\n",
    "Elbow_M.fit(df_scaled)\n",
    "Elbow_M.show()"
   ]
  },
  {
   "cell_type": "code",
   "execution_count": null,
   "id": "2301611c",
   "metadata": {},
   "outputs": [],
   "source": [
    "#KMeans Clustering\n",
    "\n",
    "kmeans = KMeans(n_clusters=6,max_iter=50, random_state=42).fit(df_scaled)"
   ]
  },
  {
   "cell_type": "code",
   "execution_count": null,
   "id": "9adb0ee3",
   "metadata": {
    "scrolled": true
   },
   "outputs": [],
   "source": [
    "#centriods\n",
    "centriods = kmeans.cluster_centers_\n",
    "centriods = pd.DataFrame(centriods, columns= df_clean.columns)\n",
    "centriods.index.name = 'Cluster'\n",
    "centriods"
   ]
  },
  {
   "cell_type": "code",
   "execution_count": null,
   "id": "c13e7daa",
   "metadata": {
    "scrolled": true
   },
   "outputs": [],
   "source": [
    "centriods_orignal = scaler.inverse_transform(centriods)\n",
    "centriods_orignal = pd.DataFrame(centriods_orignal.round(2), columns= df_clean.columns)\n",
    "centriods_orignal.index.name = 'Cluster'\n",
    "centriods_orignal"
   ]
  },
  {
   "cell_type": "code",
   "execution_count": null,
   "id": "71496e96",
   "metadata": {},
   "outputs": [],
   "source": [
    "meancost_centriods = centriods_orignal.reset_index().melt(id_vars=['Cluster'], \n",
    "                                                          value_vars=['Opioid_mean_cost', 'Opioid_LA_mean_cost',\n",
    "                                                                     'Antbtc_mean_cost', 'Antpsyct_mean_cost'],\n",
    "                                                         var_name='Labeled Drugs', value_name='Mean Cost Cluster Centriods')\n",
    "\n",
    "prsrate_centriods = centriods_orignal.reset_index().melt(id_vars=['Cluster'], \n",
    "                                                          value_vars=['Opioid_Prscrbr_Rate', 'Opioid_LA_Prscrbr_Rate',\n",
    "                                                                     'Antbtc_Prscrbr_Rate', 'Antpsyct_Prscrbr_Rate'],\n",
    "                                                        var_name='Labeled Drugs', value_name='Prscrbr Rate Cluster Centriods')\n",
    "\n",
    "plt.style.use('default')  \n",
    "fig, axes = plt.subplots(2, 1, figsize=(18, 12))\n",
    "\n",
    "pal = [\"#682F2F\",\"#B9C0C9\", \"#9F8A78\",\"#F3AB60\", '#56627d','#c6ccc0']\n",
    "sns.barplot(data=meancost_centriods, x=\"Labeled Drugs\", y=\"Mean Cost Cluster Centriods\", hue=\"Cluster\",palette= pal, ax=axes[0])\n",
    "axes[0].set_title(\"Cluster Centroids of  Mean Cost on the Claim for Labeled Drugs \\n\",fontsize = 14)\n",
    "\n",
    "sns.barplot(data=prsrate_centriods, x=\"Labeled Drugs\", y=\"Prscrbr Rate Cluster Centriods\", hue=\"Cluster\",palette= pal, ax=axes[1])\n",
    "axes[1].set_title(\"Cluster Centroids of Prscrbr Rate for Labeled Drugs\", fontsize = 14)\n",
    "plt.show()\n"
   ]
  },
  {
   "cell_type": "markdown",
   "id": "3b85e10e",
   "metadata": {},
   "source": [
    "## Clustering Pattern Analysis\n",
    "\n",
    "Since this is an unsupervised clustering. We do not have a tagged feature to evaluate or score our model. In this section, I study the clustering patterns and identify the characteristics of the labeled drug claims on each cluster. "
   ]
  },
  {
   "cell_type": "code",
   "execution_count": null,
   "id": "1df7bf4c",
   "metadata": {},
   "outputs": [],
   "source": [
    "df_clean[\"clusters\"]= kmeans.labels_"
   ]
  },
  {
   "cell_type": "code",
   "execution_count": null,
   "id": "b3c12da0",
   "metadata": {
    "scrolled": false
   },
   "outputs": [],
   "source": [
    "# Plotting countplot of clusters\n",
    "pal = [\"#682F2F\",\"#B9C0C9\", \"#9F8A78\",\"#F3AB60\", '#56627d','#c6ccc0']\n",
    "ax = sns.countplot(x=df_clean[\"clusters\"], palette= pal)\n",
    "ax.set_title(\"Distribution Of The Clusters\")\n",
    "#ax.grid(True) \n",
    "\n",
    "total = len(df_clean[\"clusters\"])\n",
    "for p in ax.patches:\n",
    "    percentage = '{:.1f}%'.format(100 * p.get_height()/total)\n",
    "    x = p.get_x() + p.get_width() / 2 -0.1 # To adjust the position of the percentage value\n",
    "    y = p.get_y() + p.get_height() + 0 # To adjust the position of the percentage value\n",
    "    ax.annotate(percentage, (x, y), size = 12)\n",
    "plt.show()"
   ]
  },
  {
   "cell_type": "code",
   "execution_count": null,
   "id": "80dc3cdb",
   "metadata": {
    "scrolled": true
   },
   "outputs": [],
   "source": [
    "# Lets see the Key metrics of each clusters\n",
    "for name in df_clean.columns[:-1]:\n",
    "    sns.set(rc={\"figure.figsize\":(8, 4)})\n",
    "    sns.boxplot(x=\"clusters\",y=name, data=df_clean).set_title(name + \" by Clusters\")\n",
    "    plt.show()"
   ]
  },
  {
   "cell_type": "code",
   "execution_count": null,
   "id": "9a57ca4d",
   "metadata": {},
   "outputs": [],
   "source": [
    "for i in range(df_clean.shape[1]):\n",
    "    print (\"\\n\" + df_clean.columns[i] + \"describled by clusters \\n\")\n",
    "    for  j in range(0,6,1):\n",
    "        print (\"Cluster:\", str(j))\n",
    "        print(df_clean.iloc[:,i][df_clean['clusters']==j].describe())\n"
   ]
  },
  {
   "cell_type": "markdown",
   "id": "e79c3ce8",
   "metadata": {},
   "source": [
    "### Cluster pattern: Which Clusters Need Attention?\n",
    "\n",
    "For each flaged drugs claims, we have four patterns, Low rate and Low cost, High rate and Low cost, Low rate and High cost, \tHigh rate and High cost. If the cluster pattern shows low prscriber rate and low mean cost for flagged drugs, I consider the claims are normal except the outliers. If the pattern shows high prscriber rate and low mean cost, I will take a routinee check and see if there are specilty requirements for medical, and then check the outliers. If the cluster pattern shows high prscriber rate and high mean cost, or low prscriber rate but high mean cost, the claims are suspicious.  "
   ]
  },
  {
   "cell_type": "code",
   "execution_count": null,
   "id": "3cacd50e",
   "metadata": {},
   "outputs": [],
   "source": [
    "pattern = pd.DataFrame({'Cluster': [0,1,2,3,4,5], 'Percentage':[0.702,0.1630,0.0340,0.006,0.025,0.07],\n",
    "                       'Pattern':['Low cost, Low rate for flagged drugs',\n",
    "                                  'Low Antbtc_mean_cost, High Antbtc_Prscrbr_Rate',\n",
    "                                  'High Opioid_mean_cost,  Low Opioid_Prscrbr_Rate, High Opioid_LA_mean_cost,High Opioid_LA_Prscrbr_Rate',\n",
    "                                  'High Antbtc_mean_cost, Low Antbtc_Prscrbr_Rate',\n",
    "                                  'High Antpsyct_mean_cost, High Antpsyct_Prscrbr_Rate',\n",
    "                                  'Low  Opioid_mean_cost, High Opioid_Prscrbr_Rate'\n",
    "                                ],\n",
    "                       'Label':['Normal','Low Suspicious on Antbtc Claim','High Suspicious on Opioid Claim','Moderate Suspicious on Antbtc Claim','High Suspicious on  Antpsyct Claim', 'Low Suspicious on Opioid Claim']})\n",
    "pattern "
   ]
  },
  {
   "cell_type": "code",
   "execution_count": null,
   "id": "86aa9b0d",
   "metadata": {
    "scrolled": true
   },
   "outputs": [],
   "source": [
    "pattern_detail = pd.DataFrame({'Cluster': [0,1,2,3,4,5], 'Percentage':[0.702,0.1630,0.0340,0.006,0.025,0.07],\n",
    "                        'Opioid_mean_cost: Q1-M-Q3':['0-0-4','0-0-0','42-62-99','0-0-0','0-0-0','4-6-9'],\n",
    "                        'Opioid_Prscrbr_Rate (%): Q1-M-Q3':['0-0-0','0-0-0','3-7-25','0-0-0','0-0-0','30-39-52'],\n",
    "                        'Opioid_LA_mean_cost: Q1-M-Q3':['0-0-0','0-0-0','102-213-362','0-0-0','0-0-0','0-0-0'],\n",
    "                        'Opioid_LA_Prscrbr_Rate (%): Q1-M-Q3':['0-0-0','0-0-0','15-23-31','0-0-0','0-0-0','0-0-0'],\n",
    "                        'Antbtc_mean_cost: Q1-M-Q3':['0-0-12','5-7-11','0-11-21','945-1248-1782','0-0-0','0-3-8'],\n",
    "                        'Antbtc_Prscrbr_Rate (%): Q1-M-Q3':['0-0-0','41-54-72','0-2-3','3-5-8','0-0-0','0-4-23'],\n",
    "                        'Antpsyct_mean_cost: Q1-M-Q3':['0-0-0', '0-0-0','0-0-23','0-0-0','68-206-472','0-0-0'],\n",
    "                        'Antpsyct_Prscrbr_Rate (%): Q1-M-Q3':['0-0-0','0-0-0','0-0-1','0-0-0','15,21,29','0-0-0'],\n",
    "                        'Pattern':['Low cost, Low rate for flagged drugs',\n",
    "                                  'Low Antbtc_mean_cost, High Antbtc_Prscrbr_Rate',\n",
    "                                  'High Opioid_mean_cost,  Low Opioid_Prscrbr_Rate, High Opioid_LA_mean_cost,High Opioid_LA_Prscrbr_Rate',\n",
    "                                  'High Antbtc_mean_cost, Low Antbtc_Prscrbr_Rate',\n",
    "                                  'High Antpsyct_mean_cost, High Antpsyct_Prscrbr_Rate',\n",
    "                                  'Low  Opioid_mean_cost, High Opioid_Prscrbr_Rate',\n",
    "                                ],\n",
    "                       'Label':['Normal','Low Suspicious on Antbtc Claim','High Suspicious on Opioid Claim','Moderate Suspicious on Antbtc Claim','High Suspicious on  Antpsyct Claim', 'Low Suspicious on Opioid Claim']})\n",
    "pattern_detail "
   ]
  },
  {
   "cell_type": "code",
   "execution_count": null,
   "id": "fbf2c5ef",
   "metadata": {},
   "outputs": [],
   "source": [
    "df_clean['Prscrbr_Type']=df_prs['Prscrbr_Type']\n",
    "df_clean['PRSCRBR_NPI']=df_prs['PRSCRBR_NPI']"
   ]
  },
  {
   "cell_type": "markdown",
   "id": "befa558e",
   "metadata": {},
   "source": [
    "### What Specialty Types are included in the suspicious cluster? How do each specialty type claims labeled drugs in suspicious cluster differ from it claims in other clusters?"
   ]
  },
  {
   "cell_type": "markdown",
   "id": "af9613a3",
   "metadata": {},
   "source": [
    "#### Specialty Types in Cluster 2, Labled as High Suspicious on Opioid Claim"
   ]
  },
  {
   "cell_type": "code",
   "execution_count": null,
   "id": "6588273f",
   "metadata": {
    "scrolled": true
   },
   "outputs": [],
   "source": [
    "Prscrbr_1 = df_clean.Prscrbr_Type[df_clean['clusters']==2].value_counts().rename_axis('Prscrbr_Type').reset_index(name='counts')\n",
    "Prscrbr_1"
   ]
  },
  {
   "cell_type": "markdown",
   "id": "fca0080a",
   "metadata": {},
   "source": [
    "#### Choose Family Practice from Specialty Types, Compare Opioid/LA-Opioid claims (mean cost and prscrbr rate) in cluster 2 with those in other clusters "
   ]
  },
  {
   "cell_type": "code",
   "execution_count": null,
   "id": "12f961a3",
   "metadata": {
    "scrolled": true
   },
   "outputs": [],
   "source": [
    "# Compare Opioid_mean_cost by clusters.\n",
    "fig = px.box(df_clean[df_clean['Prscrbr_Type']=='Family Practice'], x=\"clusters\", y=\"Opioid_mean_cost\", hover_data=[\"PRSCRBR_NPI\"])\n",
    "fig.update_layout(height=500,   \n",
    "                  title=\"<span style='font-size:25px; font-family:Times New Roman'> Box Plots of Opioid Mean Claim Cost Offered by Family Practice Providers</span>\",\n",
    "                  margin=dict(t=130, b=10, l=15, r=15),               \n",
    "                  plot_bgcolor='#333', paper_bgcolor='#333',\n",
    "                  title_font=dict(size=15, color='#8a8d93', family=\"Times New Roman\"),\n",
    "                  font=dict(size=10,color='#8a8d93'),\n",
    "                  xaxis=dict(#tickvals = [0, 1, 2, 3, 4, 5],ticktext=['Low Suspicious on Antbtc Claim','High Suspicious on Opioid Claim','Normal','Low Suspicious on Opioid Claim','Moderate Suspicious on Antbtc Claim','High Suspicious on  Antpsyct Claim'],\n",
    "                             title=\"<span style='font-size:20px; font-family:Times New Roman'>Clusters</span>\",\n",
    "                             zerolinewidth=0.1,ticklen=1,gridwidth=0),\n",
    "                  yaxis=dict(title=\"<span style='font-size:20px; font-family:Times New Roman'>Opioid Mean Cost </span>\",\n",
    "                             zerolinewidth=0.1,ticklen=1,gridwidth=0),\n",
    "                )\n",
    "fig.show()"
   ]
  },
  {
   "cell_type": "code",
   "execution_count": null,
   "id": "93f01ba0",
   "metadata": {
    "scrolled": true
   },
   "outputs": [],
   "source": [
    "# Compare Opioid_Prscrbr_Rate by clusters.\n",
    "fig = px.box(df_clean[df_clean['Prscrbr_Type']=='Family Practice'], x=\"clusters\", y=\"Opioid_Prscrbr_Rate\", hover_data=[\"PRSCRBR_NPI\"])\n",
    "fig.update_layout(height=500,   \n",
    "                  title=\"<span style='font-size:25px; font-family:Times New Roman'> Box Plots of Opioid Prescription Rate of Family Practice Providers</span>\",\n",
    "                  margin=dict(t=130, b=10, l=15, r=15),               \n",
    "                  plot_bgcolor='#333', paper_bgcolor='#333',\n",
    "                  title_font=dict(size=15, color='#8a8d93', family=\"Times New Roman\"),\n",
    "                  font=dict(size=10,color='#8a8d93'),\n",
    "                  xaxis=dict(#tickvals = [0, 1, 2, 3, 4, 5],ticktext=['Low Suspicious on Antbtc Claim','High Suspicious on Opioid Claim','Normal','Low Suspicious on Opioid Claim','Moderate Suspicious on Antbtc Claim','High Suspicious on  Antpsyct Claim'],\n",
    "                             title=\"<span style='font-size:20px; font-family:Times New Roman'>Clusters</span>\",\n",
    "                             zerolinewidth=0.1,ticklen=1,gridwidth=0),\n",
    "                  yaxis=dict(title=\"<span style='font-size:20px; font-family:Times New Roman'>Opioid Prescription Rate </span>\",\n",
    "                             zerolinewidth=0.1,ticklen=1,gridwidth=0),\n",
    "                )\n",
    "fig.show()"
   ]
  },
  {
   "cell_type": "code",
   "execution_count": null,
   "id": "9558af0f",
   "metadata": {},
   "outputs": [],
   "source": [
    "# Compare Opioid_mean_cost by clusters.\n",
    "fig = px.box(df_clean[df_clean['Prscrbr_Type']=='Family Practice'], x=\"clusters\", y=\"Opioid_LA_mean_cost\", hover_data=[\"PRSCRBR_NPI\"])\n",
    "fig.update_layout(height=500,   \n",
    "                  title=\"<span style='font-size:25px; font-family:Times New Roman'> Box Plots of Long-acting Opioid Mean Claim Cost  Offered by Family Practice Providers</span>\",\n",
    "                  margin=dict(t=130, b=10, l=15, r=15),               \n",
    "                  plot_bgcolor='#333', paper_bgcolor='#333',\n",
    "                  title_font=dict(size=15, color='#8a8d93', family=\"Times New Roman\"),\n",
    "                  font=dict(size=10,color='#8a8d93'),\n",
    "                  xaxis=dict(#tickvals = [0, 1, 2, 3, 4, 5],ticktext=['Low Suspicious on Antbtc Claim','High Suspicious on Opioid Claim','Normal','Low Suspicious on Opioid Claim','Moderate Suspicious on Antbtc Claim','High Suspicious on  Antpsyct Claim'],\n",
    "                             title=\"<span style='font-size:20px; font-family:Times New Roman'>Clusters</span>\",\n",
    "                             zerolinewidth=0.1,ticklen=1,gridwidth=0),\n",
    "                  yaxis=dict(title=\"<span style='font-size:20px; font-family:Times New Roman'>Long-acting Opioid Mean Cost </span>\",\n",
    "                             zerolinewidth=0.1,ticklen=1,gridwidth=0),\n",
    "                )\n",
    "fig.show()"
   ]
  },
  {
   "cell_type": "code",
   "execution_count": null,
   "id": "7087161e",
   "metadata": {},
   "outputs": [],
   "source": [
    "# Compare Opioid_mean_cost by clusters.\n",
    "fig = px.box(df_clean[df_clean['Prscrbr_Type']=='Family Practice'], x=\"clusters\", y=\"Opioid_LA_Prscrbr_Rate\", hover_data=[\"PRSCRBR_NPI\"])\n",
    "fig.update_layout(height=500,   \n",
    "                  title=\"<span style='font-size:25px; font-family:Times New Roman'> Box Plots of Long-acting Opioid Prescription Rate of Family Practice Providers</span>\",\n",
    "                  margin=dict(t=130, b=10, l=15, r=15),               \n",
    "                  plot_bgcolor='#333', paper_bgcolor='#333',\n",
    "                  title_font=dict(size=15, color='#8a8d93', family=\"Times New Roman\"),\n",
    "                  font=dict(size=10,color='#8a8d93'),\n",
    "                  xaxis=dict(#tickvals = [0, 1, 2, 3, 4, 5],ticktext=['Low Suspicious on Antbtc Claim','High Suspicious on Opioid Claim','Normal','Low Suspicious on Opioid Claim','Moderate Suspicious on Antbtc Claim','High Suspicious on  Antpsyct Claim'],\n",
    "                             title=\"<span style='font-size:20px; font-family:Times New Roman'>Clusters</span>\",\n",
    "                             zerolinewidth=0.1,ticklen=1,gridwidth=0),\n",
    "                  yaxis=dict(title=\"<span style='font-size:20px; font-family:Times New Roman'>Long-acting Opioid Prescription Rate </span>\",\n",
    "                             zerolinewidth=0.1,ticklen=1,gridwidth=0),\n",
    "                )\n",
    "fig.show()"
   ]
  },
  {
   "cell_type": "markdown",
   "id": "cd4e50eb",
   "metadata": {},
   "source": [
    "From the above box-plots, we found that Claims in Clusters 2 are significant different from those in other clusters."
   ]
  },
  {
   "cell_type": "markdown",
   "id": "b4c66b43",
   "metadata": {},
   "source": [
    "## Who are suspicious providers? \n",
    "\n",
    "### Example: Detect Who Offer Anomalous Opioid Claims from Interventional Pain Management Providers "
   ]
  },
  {
   "cell_type": "markdown",
   "id": "641d9e19",
   "metadata": {},
   "source": [
    "### Method 1: direct method using scatter plots"
   ]
  },
  {
   "cell_type": "code",
   "execution_count": null,
   "id": "9ac43418",
   "metadata": {
    "scrolled": true
   },
   "outputs": [],
   "source": [
    "df_1 = df_clean[df_clean['clusters']==2].groupby('Prscrbr_Type').agg({'Opioid_mean_cost':'median','Opioid_Prscrbr_Rate':'median',\n",
    "                                                                      }).reset_index()\n",
    "df_1.head(2)"
   ]
  },
  {
   "cell_type": "code",
   "execution_count": null,
   "id": "715ac8c9",
   "metadata": {},
   "outputs": [],
   "source": [
    "df_2 = pd.merge(Prscrbr_1, df_1, on='Prscrbr_Type')\n",
    "df_2.head(2)"
   ]
  },
  {
   "cell_type": "code",
   "execution_count": null,
   "id": "71470d79",
   "metadata": {},
   "outputs": [],
   "source": [
    "fig = go.Figure()\n",
    "fig.add_trace(go.Scatter(\n",
    "    x=df_2.Opioid_mean_cost,\n",
    "    y=df_2.Opioid_Prscrbr_Rate,\n",
    "    mode='markers',\n",
    "    text=df_2.Prscrbr_Type,\n",
    "    hovertemplate =\n",
    "    '<b>%{text}</b><br>'+\n",
    "    '<b>Opioid_mean_cost</b>: %{x:.2f}<br>'+\n",
    "    '<b>Opioid_Prscrbr_Rate (%)</b>: %{y:.0f}<br>'+\n",
    "    '<b>Count(log2):%{marker.size:.0f}</b>',\n",
    "    marker=dict(\n",
    "        size=np.log2(df_2.counts),\n",
    "        line=dict(\n",
    "            width=2\n",
    "        ),\n",
    "    )\n",
    "))\n",
    "fig.update_layout(height=500, \n",
    "                  title=\"<span style='font-size:32px; font-family:Times New Roman'> Scatter Plot of Prscriber Types in Cluster 2</span>\",\n",
    "                  margin=dict(t=130, b=10, l=15, r=15),               \n",
    "                  plot_bgcolor='#333', paper_bgcolor='#333',\n",
    "                  title_font=dict(size=15, color='#8a8d93', family=\"Times New Roman\"),\n",
    "                  font=dict(size=15,color='#8a8d93'),\n",
    "                  xaxis=dict(title=\"<span style='font-size:20px; font-family:Times New Roman'>Opioid_mean_cost (median)</span>\",\n",
    "                             zerolinewidth=1,ticklen=5,gridwidth=1),\n",
    "                  yaxis=dict(title=\"<span style='font-size:20px; font-family:Times New Roman'>Opioid_Prscrbr_Rate (median)</span>\",\n",
    "                             zerolinewidth=1,ticklen=5,gridwidth=1),\n",
    "                  )\n",
    "fig.show()"
   ]
  },
  {
   "cell_type": "code",
   "execution_count": null,
   "id": "34773b39",
   "metadata": {},
   "outputs": [],
   "source": [
    "# Why choose Interventional Pain Management data to analysis? The median values of Opioid_mean_cost and Opioid_Prscrbr_Rate are high, \n",
    "# as well count numuber is large enough for Unsupervised Anomaly Detection in the next step.  \n",
    "df_ipm = df_clean.loc[(df_clean['Prscrbr_Type']=='Interventional Pain Management') & (df_clean['clusters']==2)]"
   ]
  },
  {
   "cell_type": "code",
   "execution_count": null,
   "id": "050d38cc",
   "metadata": {},
   "outputs": [],
   "source": [
    "Q1_omc= np.quantile(df_ipm.Opioid_mean_cost,0.25)\n",
    "Q3_omc= np.quantile(df_ipm.Opioid_mean_cost,0.75)\n",
    "IQR_omc= Q3_omc - Q1_omc   \n",
    "Upper_omc = (Q3_omc + 1.5*IQR_omc)\n",
    "\n",
    "Q1_opr= np.quantile(df_ipm.Opioid_Prscrbr_Rate,0.25)\n",
    "Q3_opr= np.quantile(df_ipm.Opioid_Prscrbr_Rate,0.75)\n",
    "IQR_opr= Q3_opr - Q1_opr   \n",
    "Upper_opr = (Q3_opr + 1.5*IQR_opr)"
   ]
  },
  {
   "cell_type": "code",
   "execution_count": null,
   "id": "a9e57554",
   "metadata": {
    "scrolled": true
   },
   "outputs": [],
   "source": [
    "fig = go.Figure()\n",
    "fig.add_trace(go.Scatter(\n",
    "    x=df_ipm.Opioid_mean_cost,\n",
    "    y=df_ipm.Opioid_Prscrbr_Rate,\n",
    "    mode='markers',\n",
    "    text=df_ipm.PRSCRBR_NPI,\n",
    "    hovertemplate =\n",
    "    '<b>PRSCRBR_NPI</b>: %{text}<br>'+\n",
    "    '<b>Opioid_mean_cost</b>: %{x:.2f}<br>'+\n",
    "    '<b>Opioid_Prscrbr_Rate (%)</b>: %{y:.0f}<br>',\n",
    "    marker=dict(\n",
    "        size=7,\n",
    "        line=dict(\n",
    "            width=2\n",
    "        ),\n",
    "    )\n",
    "))\n",
    "fig.add_vrect(x0=Upper_omc, x1=df_ipm.Opioid_mean_cost.max(), line_width=0, fillcolor=\"#c6ccd8\", opacity=0.2,\n",
    "             annotation_text=\"Suspicious Points Region (Upper Boundary to Max)\", annotation_position=\"top left\")\n",
    "fig.add_hline(y=Upper_opr, line_width=3, line_dash=\"dash\", line_color=\"red\",\n",
    "             annotation_text=\"Opioid_Prscrbr_Rate Upper Boundary Line\", \n",
    "             annotation_position=\"bottom right\")\n",
    "fig.update_layout(height=500, \n",
    "                  title=\"<span style='font-size:25px; font-family:Times New Roman'> Scatter Plot of Opioid Claims by Interventional Pain Management Providers in Cluster 2</span>\",\n",
    "                  margin=dict(t=130, b=10, l=15, r=15),               \n",
    "                  plot_bgcolor='#333', paper_bgcolor='#333',\n",
    "                  title_font=dict(size=15, color='#8a8d93', family=\"Times New Roman\"),\n",
    "                  font=dict(size=15,color='#8a8d93'),\n",
    "                  xaxis=dict(title=\"<span style='font-size:20px; font-family:Times New Roman'>Opioid_mean_cost</span>\",\n",
    "                             zerolinewidth=1,ticklen=5,gridwidth=1),\n",
    "                  yaxis=dict(title=\"<span style='font-size:20px; font-family:Times New Roman'>Opioid_Prscrbr_Rate</span>\",\n",
    "                             zerolinewidth=1,ticklen=5,gridwidth=1),\n",
    "                  )\n",
    "fig.show()\n",
    "\n"
   ]
  },
  {
   "cell_type": "markdown",
   "id": "9664d87a",
   "metadata": {},
   "source": [
    "### Interventional Pain Management Providers Offering anomaly Opioids."
   ]
  },
  {
   "cell_type": "code",
   "execution_count": null,
   "id": "aadc4de7",
   "metadata": {},
   "outputs": [],
   "source": [
    "Opioid_imp_0 = df_ipm.loc[(df_ipm['Opioid_mean_cost']>=Upper_omc)|(df_ipm['Opioid_Prscrbr_Rate']>=Upper_opr)]\n",
    "print('Providers (NPI) in Interventional Pain Management who probably perform abnormal Opioid drugs on the claim:\\n', \n",
    "      list(Opioid_imp_0.PRSCRBR_NPI))                                                                        "
   ]
  },
  {
   "cell_type": "code",
   "execution_count": null,
   "id": "7b02805a",
   "metadata": {},
   "outputs": [],
   "source": [
    "Opioid_imp_0 = df.merge(Opioid_imp_0, how='inner',left_on='PRSCRBR_NPI', right_on='PRSCRBR_NPI')\n",
    "print(Opioid_imp_0.shape)\n",
    "Opioid_imp_0.head(2)"
   ]
  },
  {
   "cell_type": "markdown",
   "id": "5880d844",
   "metadata": {},
   "source": [
    "### Method 2: Unsupervised Anomaly Detection"
   ]
  },
  {
   "cell_type": "code",
   "execution_count": null,
   "id": "61b98222",
   "metadata": {},
   "outputs": [],
   "source": [
    "minmax = MinMaxScaler(feature_range=(0, 1))\n",
    "df_ipm[['Opioid_mean_cost_scaled','Opioid_Prscrbr_Rate_scaled']] = minmax.fit_transform(df_ipm[['Opioid_mean_cost','Opioid_Prscrbr_Rate']])\n",
    "X = df_ipm[['Opioid_mean_cost_scaled','Opioid_Prscrbr_Rate_scaled']].values"
   ]
  },
  {
   "cell_type": "code",
   "execution_count": null,
   "id": "e869367d",
   "metadata": {},
   "outputs": [],
   "source": [
    "#X1 = df_ipm['Opioid_mean_cost_scaled'].values.reshape(-1,1)\n",
    "#X2 = df_ipm['Opioid_Prscrbr_Rate_scaled'].values.reshape(-1,1)\n",
    "\n",
    "# X = np.concatenate((X1,X2),axis=1)"
   ]
  },
  {
   "cell_type": "code",
   "execution_count": null,
   "id": "7af3c183",
   "metadata": {},
   "outputs": [],
   "source": [
    "def Anomaly_Detection_Plot(y_pred, df1, Z, threshold, name):\n",
    "    n_inliers = len(y_pred) - np.count_nonzero(y_pred)\n",
    "    n_outliers = np.count_nonzero(y_pred == 1)\n",
    "    \n",
    "    #df1 = df_ipm.copy()\n",
    "    df1['outlier'] = y_pred.tolist()\n",
    "    \n",
    "    # sales - inlier feature 1,  profit - inlier feature 2\n",
    "    inliers_omc= np.array(df1['Opioid_mean_cost_scaled'][df1['outlier'] == 0]).reshape(-1,1)\n",
    "    inliers_opr = np.array(df1['Opioid_Prscrbr_Rate_scaled'][df1['outlier'] == 0]).reshape(-1,1)\n",
    "    \n",
    "    # sales - outlier feature 1, profit - outlier feature 2\n",
    "    outliers_omc = df1['Opioid_mean_cost_scaled'][df1['outlier'] == 1].values.reshape(-1,1)\n",
    "    outliers_opr = df1['Opioid_Prscrbr_Rate_scaled'][df1['outlier'] == 1].values.reshape(-1,1)\n",
    "    print('OUTLIERS:',n_outliers,'INLIERS:',n_inliers)\n",
    "    \n",
    "\n",
    "    plt.figure(figsize=(8, 8))\n",
    "    # fill blue map colormap from minimum anomaly score to threshold value\n",
    "    plt.contourf(xx, yy, Z, levels=np.linspace(Z.min(), threshold, 7),cmap=plt.cm.Blues_r)\n",
    "    \n",
    "    # draw red contour line where anomaly score is equal to thresold\n",
    "    a = plt.contour(xx, yy, Z, levels=[threshold],linewidths=2, colors='red')\n",
    "        \n",
    "    # fill orange contour lines where range of anomaly score is from threshold to maximum anomaly score\n",
    "    plt.contourf(xx, yy, Z, levels=[threshold, Z.max()],colors='orange')\n",
    "    \n",
    "    b = plt.scatter(inliers_omc, inliers_opr, c='white',s=20, edgecolor='k')\n",
    "    \n",
    "    c = plt.scatter(outliers_omc, outliers_opr, c='black',s=20, edgecolor='k')\n",
    "       \n",
    "    plt.axis('tight')   \n",
    "    plt.legend([a.collections[0], b,c], ['learned decision function', 'inliers','outliers'],\n",
    "           loc='lower right',  fontsize=15)\n",
    "    plt.xlim((0, 1))\n",
    "    plt.ylim((0, 1))\n",
    "    plt.xlabel('Opioid_mean_cost_scaled')\n",
    "    plt.ylabel('Opioid_Prscrbr_Rate_scaled')\n",
    "    plt.title(name, fontsize=20, fontfamily='Times New Roman')\n",
    "    plt.show()"
   ]
  },
  {
   "cell_type": "code",
   "execution_count": null,
   "id": "fa9459cf",
   "metadata": {},
   "outputs": [],
   "source": [
    "outliers_fraction = 0.075\n",
    "xx , yy = np.meshgrid(np.linspace(0, 1, 100), np.linspace(0, 1, 100))"
   ]
  },
  {
   "cell_type": "markdown",
   "id": "ea739bc0",
   "metadata": {},
   "source": [
    "### K Nearest Neighbors (KNN)"
   ]
  },
  {
   "cell_type": "code",
   "execution_count": null,
   "id": "2c247d69",
   "metadata": {},
   "outputs": [],
   "source": [
    "clf_KNN = KNN(contamination=outliers_fraction)\n",
    "clf_KNN.fit(X)\n",
    "# predict raw anomaly score\n",
    "scores_pred_KNN = clf_KNN.decision_function(X) * -1\n",
    "    \n",
    "# prediction of a datapoint category outlier or inlier\n",
    "y_pred_KNN = clf_KNN.predict(X)\n",
    "\n",
    "# decision function calculates the raw anomaly score for every point\n",
    "Z_clf_KNN = clf_KNN.decision_function(np.c_[xx.ravel(), yy.ravel()]) * -1\n",
    "Z_clf_KNN = Z_clf_KNN.reshape(xx.shape)\n",
    "\n",
    "# Use threshold value to consider a datapoint inlier or outlier\n",
    "# threshold = stats.scoreatpercentile(scores_pred,100 * outliers_fraction)\n",
    "threshold_KNN = percentile(scores_pred_KNN, 100 * outliers_fraction)\n",
    "\n",
    "KNN_plot = Anomaly_Detection_Plot(y_pred_KNN, df_ipm.copy(), Z_clf_KNN,threshold_KNN, 'K Nearest Neighbors (KNN)')"
   ]
  },
  {
   "cell_type": "markdown",
   "id": "81500d7c",
   "metadata": {},
   "source": [
    "### Histogram-base Outlier Detection (HBOS)"
   ]
  },
  {
   "cell_type": "code",
   "execution_count": null,
   "id": "b145b306",
   "metadata": {},
   "outputs": [],
   "source": [
    "clf_HBOS = HBOS(contamination=outliers_fraction)\n",
    "clf_HBOS.fit(X)\n",
    "# predict raw anomaly score\n",
    "scores_pred_HBOS = clf_HBOS.decision_function(X) * -1\n",
    "    \n",
    "# prediction of a datapoint category outlier or inlier\n",
    "y_pred_HBOS = clf_HBOS.predict(X)\n",
    "\n",
    "# decision function calculates the raw anomaly score for every point\n",
    "Z_clf_HBOS = clf_HBOS.decision_function(np.c_[xx.ravel(), yy.ravel()]) * -1\n",
    "Z_clf_HBOS = Z_clf_HBOS.reshape(xx.shape)\n",
    "\n",
    "# Use threshold value to consider a datapoint inlier or outlier\n",
    "# threshold = stats.scoreatpercentile(scores_pred,100 * outliers_fraction)\n",
    "threshold_HBOS = percentile(scores_pred_HBOS, 100 * outliers_fraction)\n",
    "\n",
    "HBOS_plot = Anomaly_Detection_Plot(y_pred_HBOS, df_ipm.copy(), Z_clf_HBOS,threshold_HBOS, \n",
    "                                   'Histogram-base Outlier Detection (HBOS)')"
   ]
  },
  {
   "cell_type": "markdown",
   "id": "48a6990c",
   "metadata": {},
   "source": [
    "### Isolation Forest"
   ]
  },
  {
   "cell_type": "code",
   "execution_count": null,
   "id": "a4fadc3a",
   "metadata": {},
   "outputs": [],
   "source": [
    "clf_IForest = IForest(contamination=outliers_fraction,random_state=0)\n",
    "clf_IForest.fit(X)\n",
    "# predict raw anomaly score\n",
    "scores_pred_IForest = clf_IForest.decision_function(X) * -1\n",
    "    \n",
    "# prediction of a datapoint category outlier or inlier\n",
    "y_pred_IForest = clf_IForest.predict(X)\n",
    "\n",
    "# decision function calculates the raw anomaly score for every point\n",
    "Z_clf_IForest = clf_IForest.decision_function(np.c_[xx.ravel(), yy.ravel()]) * -1\n",
    "Z_clf_IForest = Z_clf_IForest.reshape(xx.shape)\n",
    "\n",
    "# Use threshold value to consider a datapoint inlier or outlier\n",
    "# threshold = stats.scoreatpercentile(scores_pred,100 * outliers_fraction)\n",
    "threshold_IForest = percentile(scores_pred_IForest, 100 * outliers_fraction)\n",
    "\n",
    "IForest_plot = Anomaly_Detection_Plot(y_pred_IForest, df_ipm.copy(), Z_clf_IForest,threshold_IForest, 'Isolation Forest')"
   ]
  },
  {
   "cell_type": "markdown",
   "id": "1b3e0bea",
   "metadata": {},
   "source": [
    "### Cluster-based Local Outlier Factor (CBLOF)"
   ]
  },
  {
   "cell_type": "code",
   "execution_count": null,
   "id": "18a0c58c",
   "metadata": {},
   "outputs": [],
   "source": [
    "clf_CBLOF = CBLOF(contamination=outliers_fraction,check_estimator=False, random_state=0)\n",
    "clf_CBLOF.fit(X)\n",
    "# predict raw anomaly score\n",
    "scores_pred_CBLOF = clf_CBLOF.decision_function(X) * -1\n",
    "    \n",
    "# prediction of a datapoint category outlier or inlier\n",
    "y_pred_CBLOF = clf_CBLOF.predict(X)\n",
    "\n",
    "# decision function calculates the raw anomaly score for every point\n",
    "Z_clf_CBLOF = clf_CBLOF.decision_function(np.c_[xx.ravel(), yy.ravel()]) * -1\n",
    "Z_clf_CBLOF = Z_clf_CBLOF.reshape(xx.shape)\n",
    "\n",
    "# Use threshold value to consider a datapoint inlier or outlier\n",
    "# threshold = stats.scoreatpercentile(scores_pred,100 * outliers_fraction)\n",
    "threshold_CBLOF = percentile(scores_pred_CBLOF, 100 * outliers_fraction)\n",
    "\n",
    "CBLOF_plot = Anomaly_Detection_Plot(y_pred_CBLOF, df_ipm.copy(), Z_clf_CBLOF,threshold_CBLOF, 'Cluster-based Local Outlier Factor (CBLOF)')"
   ]
  },
  {
   "cell_type": "markdown",
   "id": "f77931a3",
   "metadata": {},
   "source": [
    "### Interventional Pain Management Providers Offering anomaly Opioids."
   ]
  },
  {
   "cell_type": "code",
   "execution_count": null,
   "id": "8fa7afba",
   "metadata": {},
   "outputs": [],
   "source": [
    "df_ipm['outlier'] = y_pred_IForest.tolist()\n",
    "\n",
    "Opioid_imp_1 = df_ipm.loc[df_ipm['outlier'] == 1]"
   ]
  },
  {
   "cell_type": "code",
   "execution_count": null,
   "id": "40c4fc41",
   "metadata": {},
   "outputs": [],
   "source": [
    "print('List Providers (NPI) in Interventional Pain Management who offered anomaly opioid drugs on the claim:\\n', \n",
    "      list(Opioid_imp_1.PRSCRBR_NPI))"
   ]
  },
  {
   "cell_type": "code",
   "execution_count": null,
   "id": "81f7cc19",
   "metadata": {},
   "outputs": [],
   "source": [
    "Opioid_imp = df.merge(Opioid_imp_1, how='inner',left_on='PRSCRBR_NPI', right_on='PRSCRBR_NPI')\n",
    "print(Opioid_imp.shape)\n",
    "Opioid_imp.head(2)"
   ]
  },
  {
   "cell_type": "code",
   "execution_count": null,
   "id": "13ba9a2f",
   "metadata": {},
   "outputs": [],
   "source": []
  },
  {
   "cell_type": "code",
   "execution_count": null,
   "id": "addc7242",
   "metadata": {},
   "outputs": [],
   "source": []
  }
 ],
 "metadata": {
  "kernelspec": {
   "display_name": "Python 3 (ipykernel)",
   "language": "python",
   "name": "python3"
  },
  "language_info": {
   "codemirror_mode": {
    "name": "ipython",
    "version": 3
   },
   "file_extension": ".py",
   "mimetype": "text/x-python",
   "name": "python",
   "nbconvert_exporter": "python",
   "pygments_lexer": "ipython3",
   "version": "3.9.7"
  }
 },
 "nbformat": 4,
 "nbformat_minor": 5
}
